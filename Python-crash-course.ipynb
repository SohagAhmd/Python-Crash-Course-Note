{
 "cells": [
  {
   "cell_type": "markdown",
   "id": "6d2a51e7",
   "metadata": {},
   "source": [
    "# Starting with variable"
   ]
  },
  {
   "cell_type": "markdown",
   "id": "85df381b",
   "metadata": {},
   "source": [
    "#We can directly create variables without specifying a data type, as in languages such as C, C++, and Java. Example:"
   ]
  },
  {
   "cell_type": "code",
   "execution_count": 1,
   "id": "42888a0d",
   "metadata": {},
   "outputs": [],
   "source": [
    "num = 10"
   ]
  },
  {
   "cell_type": "code",
   "execution_count": null,
   "id": "1c5a7960",
   "metadata": {},
   "outputs": [],
   "source": [
    "print(num)"
   ]
  },
  {
   "cell_type": "raw",
   "id": "53b97f2d",
   "metadata": {},
   "source": [
    "Here you can see one interesting thing: we don't use a semicolon at the end of a statement, which is a convenient feature in Python. If you use a semicolon, it will not give you an error. However, Python is an indentation-sensitive language, and we will learn about indentation later"
   ]
  },
  {
   "cell_type": "markdown",
   "id": "793ab375",
   "metadata": {},
   "source": [
    "# more about variable"
   ]
  },
  {
   "cell_type": "code",
   "execution_count": 80,
   "id": "eabe79bc",
   "metadata": {},
   "outputs": [],
   "source": [
    "name = 'Sohag' # For strings, we use both single and double quotation marks"
   ]
  },
  {
   "cell_type": "code",
   "execution_count": 4,
   "id": "2eaa3424",
   "metadata": {},
   "outputs": [],
   "source": [
    "weight = 5.5  "
   ]
  },
  {
   "cell_type": "code",
   "execution_count": 81,
   "id": "b01f6014",
   "metadata": {},
   "outputs": [],
   "source": [
    "is_raining = True  # In Python, Boolean values start with capital letters: True and False."
   ]
  },
  {
   "cell_type": "code",
   "execution_count": 6,
   "id": "f599ee22",
   "metadata": {},
   "outputs": [],
   "source": [
    "statment = None #this in none data type"
   ]
  },
  {
   "cell_type": "raw",
   "id": "5d573e61",
   "metadata": {},
   "source": [
    "In Python, there are naming conventions for declaring variables."
   ]
  },
  {
   "cell_type": "raw",
   "id": "7bfdc71c",
   "metadata": {},
   "source": [
    "A variable name must start with a letter or the underscore character\n",
    "A variable name cannot start with a number\n",
    "A variable name can only contain alpha-numeric characters and underscores (A-z, 0-9, and _ )\n",
    "Variable names are case-sensitive (age, Age and AGE are three different variables)\n",
    "A variable name cannot be any of the Python keywords."
   ]
  },
  {
   "cell_type": "markdown",
   "id": "5f0eba31",
   "metadata": {},
   "source": [
    "# Assigning multiple values"
   ]
  },
  {
   "cell_type": "raw",
   "id": "4676d45c",
   "metadata": {},
   "source": [
    "Now we will learn about printing and user input. In Python, for printing, we use the print() function. For getting user input, we use the input() function."
   ]
  },
  {
   "cell_type": "code",
   "execution_count": 82,
   "id": "8d192825",
   "metadata": {},
   "outputs": [
    {
     "name": "stdout",
     "output_type": "stream",
     "text": [
      "Hello, welcome to Python!\n",
      "Please enter your name: Sohag\n",
      "Hello, Sohag Nice to meet you!\n"
     ]
    }
   ],
   "source": [
    "# Printing using print()\n",
    "print(\"Hello, welcome to Python!\")\n",
    "\n",
    "# Getting user input using input()\n",
    "name = input(\"Please enter your name: \")\n",
    "print(\"Hello,\", name, \"Nice to meet you!\")\n"
   ]
  },
  {
   "cell_type": "code",
   "execution_count": 85,
   "id": "77075738",
   "metadata": {},
   "outputs": [],
   "source": [
    "name, age, gender, adult, weight = 'Sohag', 27, 'male', True, 66.5"
   ]
  },
  {
   "cell_type": "code",
   "execution_count": 86,
   "id": "9ee8f5d7",
   "metadata": {},
   "outputs": [
    {
     "name": "stdout",
     "output_type": "stream",
     "text": [
      "Sohag 27 male True 66.5\n"
     ]
    }
   ],
   "source": [
    "print(name, age, gender, adult, weight)"
   ]
  },
  {
   "cell_type": "markdown",
   "id": "96cd235f",
   "metadata": {},
   "source": [
    "# Global variable "
   ]
  },
  {
   "cell_type": "raw",
   "id": "8b533307",
   "metadata": {},
   "source": [
    "When you declare a variable outside of a function, this variable is global. A global variable means it is accessible from any part of the code. For example:"
   ]
  },
  {
   "cell_type": "code",
   "execution_count": 9,
   "id": "b5e5f34a",
   "metadata": {},
   "outputs": [
    {
     "name": "stdout",
     "output_type": "stream",
     "text": [
      "Sohag\n"
     ]
    }
   ],
   "source": [
    "name = \"Sohag\"\n",
    "def print_name():\n",
    "    print(name)\n",
    "    \n",
    "print_name()"
   ]
  },
  {
   "cell_type": "raw",
   "id": "3c0eae63",
   "metadata": {},
   "source": [
    "In this piece of code, `name` is a global variable because it is declared outside of the `print_name` function but inside the `main` function."
   ]
  },
  {
   "cell_type": "code",
   "execution_count": 10,
   "id": "98bf21d0",
   "metadata": {},
   "outputs": [
    {
     "name": "stdout",
     "output_type": "stream",
     "text": [
      "27\n"
     ]
    }
   ],
   "source": [
    "def print_age():\n",
    "    user_age = 27\n",
    "    print ( user_age)\n",
    "    \n",
    "print_age()"
   ]
  },
  {
   "cell_type": "raw",
   "id": "5f7de3e1",
   "metadata": {},
   "source": [
    "Here, the user_age variable is inside the print_age function. It is in local scope, so it is a local variable. You cannot access the user_age variable outside the print_age function. Let's see an example:"
   ]
  },
  {
   "cell_type": "code",
   "execution_count": null,
   "id": "d7c1ea1c",
   "metadata": {
    "scrolled": true
   },
   "outputs": [],
   "source": [
    "print( user_age)"
   ]
  },
  {
   "cell_type": "raw",
   "id": "a8c56a95",
   "metadata": {},
   "source": [
    "here you can see it's give the NameError and the status is user_age is not define. "
   ]
  },
  {
   "cell_type": "raw",
   "id": "c2088552",
   "metadata": {},
   "source": [
    "But there is a keyword that allows us to convert a local variable to a global variable. This keyword is `global`. Let's dive into the example."
   ]
  },
  {
   "cell_type": "code",
   "execution_count": null,
   "id": "ef3c6514",
   "metadata": {},
   "outputs": [],
   "source": [
    "def print_gender():\n",
    "    global user_gender\n",
    "    user_gender = 'male'\n",
    "    \n",
    "print_gender() \n",
    "print (user_gender);"
   ]
  },
  {
   "cell_type": "raw",
   "id": "7f8272a1",
   "metadata": {},
   "source": [
    "Note: In Python, you cannot assign a value to a global variable directly using a single line like `global user_name = 'Sohag';`. This will result in a syntax error."
   ]
  },
  {
   "cell_type": "markdown",
   "id": "3e7d001a",
   "metadata": {},
   "source": [
    "# Python Data Types"
   ]
  },
  {
   "cell_type": "raw",
   "id": "60ecac12",
   "metadata": {},
   "source": [
    "In Python, there are several fundamental data types that represent different kinds of data. We have already covered integer, float, string, boolean, and None types. In this course, we will also explore list, tuple, set, and dictionary types in subsequent sections. Each of these data types serves distinct purposes for storing and manipulating data in Python programming."
   ]
  },
  {
   "cell_type": "code",
   "execution_count": 87,
   "id": "9188278e",
   "metadata": {},
   "outputs": [
    {
     "name": "stdout",
     "output_type": "stream",
     "text": [
      "<class 'str'>\n"
     ]
    }
   ],
   "source": [
    "print(type(name))  # The variable name is already declared at the top of the code; do not be confused."
   ]
  },
  {
   "cell_type": "raw",
   "id": "ade0f67d",
   "metadata": {},
   "source": [
    "print(\"<class 'str'> - 'str' signifies the string class in Python, which is a fundamental pre-defined class. We will delve deeper into Python classes later.\")\n",
    "print(\"<class 'str'> - In this line, 'class' is a keyword in Python, indicating its object-oriented nature. Here, 'str' again denotes the string class.\")"
   ]
  },
  {
   "cell_type": "code",
   "execution_count": null,
   "id": "41f91684",
   "metadata": {},
   "outputs": [],
   "source": [
    "print(type(age)) #"
   ]
  },
  {
   "cell_type": "code",
   "execution_count": null,
   "id": "0a9656c6",
   "metadata": {},
   "outputs": [],
   "source": [
    "print(type(statment)) #statment   variable is alreay declear top of the code, not be confused."
   ]
  },
  {
   "cell_type": "markdown",
   "id": "39bcf019",
   "metadata": {},
   "source": [
    "# Python Casting"
   ]
  },
  {
   "cell_type": "raw",
   "id": "6dfa9e01",
   "metadata": {},
   "source": [
    "In simple terms, type casting means changing the variable type. Let's see a few examples."
   ]
  },
  {
   "cell_type": "code",
   "execution_count": null,
   "id": "ac6b7d47",
   "metadata": {},
   "outputs": [],
   "source": [
    "id = 123\n",
    "gpa = 3.5"
   ]
  },
  {
   "cell_type": "code",
   "execution_count": null,
   "id": "d7c4a379",
   "metadata": {},
   "outputs": [],
   "source": [
    "float(id)"
   ]
  },
  {
   "cell_type": "raw",
   "id": "e523b3ed",
   "metadata": {},
   "source": [
    "Here you can see the output of `float(id) = 123.0`, which converts the variable `id` into a float type. However, the initial type of the `id` variable does not change."
   ]
  },
  {
   "cell_type": "code",
   "execution_count": null,
   "id": "c8db8aa8",
   "metadata": {},
   "outputs": [],
   "source": [
    "print(id)"
   ]
  },
  {
   "cell_type": "code",
   "execution_count": null,
   "id": "d168a5eb",
   "metadata": {},
   "outputs": [],
   "source": [
    "newId =  str(id)"
   ]
  },
  {
   "cell_type": "code",
   "execution_count": null,
   "id": "09ab647e",
   "metadata": {},
   "outputs": [],
   "source": [
    "print(type(newId))"
   ]
  },
  {
   "cell_type": "raw",
   "id": "7b956884",
   "metadata": {},
   "source": [
    "Here, the output shows that the type of `newID` is string. It's quite interesting, isn't it?"
   ]
  },
  {
   "cell_type": "markdown",
   "id": "a5abe834",
   "metadata": {},
   "source": [
    "# Let's generate random numbers"
   ]
  },
  {
   "cell_type": "code",
   "execution_count": null,
   "id": "7ccdcc53",
   "metadata": {},
   "outputs": [],
   "source": [
    "import random\n",
    "\n",
    "# Generate and print a random number between 1 and 9 (inclusive of 1 but exclusive of 10)\n",
    "print(random.randrange(1, 10))\n"
   ]
  },
  {
   "cell_type": "code",
   "execution_count": null,
   "id": "a32bedf9",
   "metadata": {},
   "outputs": [],
   "source": [
    "print(random.randint(1,10)) # it will be generated random number include 10"
   ]
  },
  {
   "cell_type": "markdown",
   "id": "11e853ee",
   "metadata": {},
   "source": [
    "# let's play with Strings"
   ]
  },
  {
   "cell_type": "markdown",
   "id": "6354787f",
   "metadata": {},
   "source": [
    "We already know that in Python, strings can be declared using both single and double quotation marks. For example:"
   ]
  },
  {
   "cell_type": "code",
   "execution_count": null,
   "id": "523fc926",
   "metadata": {},
   "outputs": [],
   "source": [
    "welcome = \"Welcome to python crash course! \"\n",
    "thanks = 'thank you for your patience'  # Both are correct\n",
    "print(welcome)\n"
   ]
  },
  {
   "cell_type": "raw",
   "id": "700958d5",
   "metadata": {},
   "source": [
    "If we need to write a multiline message in Python, using single ('...') or double (\"...\") quotation marks directly for multiline content will typically result in a syntax error. To correctly define multiline strings without encountering errors, Python provides the option to use triple double quotes (\"\"\"...\"\"\"). Let's see how this works."
   ]
  },
  {
   "cell_type": "code",
   "execution_count": null,
   "id": "a81d69e9",
   "metadata": {},
   "outputs": [],
   "source": [
    "message = \"\"\"Lorem ipsum dolor sit amet,\n",
    "consectetur adipiscing elit,\n",
    "sed do eiusmod tempor incididunt\n",
    "ut labore et dolore magna aliqua.\"\"\"\n",
    "\n",
    "print(message)"
   ]
  },
  {
   "cell_type": "raw",
   "id": "8e9cdd7b",
   "metadata": {},
   "source": [
    "Python string maintain indexing rule. Don't be confued. I will clear every thing. \n",
    "let declare a string variable language = 'Python'\n",
    "indexing rule start with 0 to length of sting minus one. \n",
    "That means Python makes with 6 letters so length of Python is 6 or variable of language is 6 as language contain the \n",
    "value as python. \n",
    "As I said indexing rule start with 0. For python total index will be 0 to 5. 0, 1, 2, 3, 4, 5.\n",
    "in index 0 will contain P, of clarity 0=P, 1=y, 2=t, 3=h, 4=o and 5=n; \n",
    "If we see the coding example It will more clear. "
   ]
  },
  {
   "cell_type": "code",
   "execution_count": null,
   "id": "8aac8f1b",
   "metadata": {},
   "outputs": [],
   "source": [
    "language = 'Python'"
   ]
  },
  {
   "cell_type": "code",
   "execution_count": null,
   "id": "86e3f828",
   "metadata": {},
   "outputs": [],
   "source": [
    "language[0] #It means index of 0 language variable"
   ]
  },
  {
   "cell_type": "code",
   "execution_count": null,
   "id": "bbfa0985",
   "metadata": {},
   "outputs": [],
   "source": [
    "language[0], language[1] ,language[2] ,language[3] ,language[4] ,language[5] "
   ]
  },
  {
   "cell_type": "raw",
   "id": "ca70d646",
   "metadata": {},
   "source": [
    "We can access from last of the string. It start from -1 to -length\n",
    "For example"
   ]
  },
  {
   "cell_type": "code",
   "execution_count": null,
   "id": "f361b5f3",
   "metadata": {},
   "outputs": [],
   "source": [
    "language[-1], language[-2], language[-3], language[-4], language[-5], language[-6]"
   ]
  },
  {
   "cell_type": "markdown",
   "id": "f022525d",
   "metadata": {},
   "source": [
    "hope you understood "
   ]
  },
  {
   "cell_type": "markdown",
   "id": "4d8c438f",
   "metadata": {},
   "source": [
    "We can check if any character or word is present in a sentence"
   ]
  },
  {
   "cell_type": "code",
   "execution_count": null,
   "id": "5c5b846e",
   "metadata": {},
   "outputs": [],
   "source": [
    "if \"t\" in \"python\":   #dont confesued with if and in this a python condition, we will learn deeply later.\n",
    "    print('yes!')"
   ]
  },
  {
   "cell_type": "code",
   "execution_count": null,
   "id": "c4b2cb4b",
   "metadata": {},
   "outputs": [],
   "source": [
    "if 'love' in 'I love python':\n",
    "    print('yes!')"
   ]
  },
  {
   "cell_type": "markdown",
   "id": "ab85e492",
   "metadata": {},
   "source": [
    "We can slice string "
   ]
  },
  {
   "cell_type": "code",
   "execution_count": null,
   "id": "8f0945d9",
   "metadata": {},
   "outputs": [],
   "source": [
    "language[2:5] #[from : to]"
   ]
  },
  {
   "cell_type": "code",
   "execution_count": null,
   "id": "7a8f1749",
   "metadata": {},
   "outputs": [],
   "source": [
    "language[2:] # it will slice from index 2 to end of the string "
   ]
  },
  {
   "cell_type": "code",
   "execution_count": null,
   "id": "3efaa23b",
   "metadata": {},
   "outputs": [],
   "source": [
    "language[:-1] # it print the full string because there are not mentioned the start index so by default it will start from o first index"
   ]
  },
  {
   "cell_type": "markdown",
   "id": "25f83777",
   "metadata": {},
   "source": [
    "We can modify the string \n"
   ]
  },
  {
   "cell_type": "code",
   "execution_count": null,
   "id": "eb3fb52b",
   "metadata": {},
   "outputs": [],
   "source": [
    "fruit = 'Apple'"
   ]
  },
  {
   "cell_type": "code",
   "execution_count": null,
   "id": "eca466f5",
   "metadata": {},
   "outputs": [],
   "source": [
    "fruit.upper() #this method return the uppercase"
   ]
  },
  {
   "cell_type": "code",
   "execution_count": null,
   "id": "9ec6f1f2",
   "metadata": {},
   "outputs": [],
   "source": [
    "fruit.lower() #this method return the lowercase"
   ]
  },
  {
   "cell_type": "markdown",
   "id": "1427ad42",
   "metadata": {},
   "source": [
    "we can remove whitespace from a sentence"
   ]
  },
  {
   "cell_type": "code",
   "execution_count": null,
   "id": "3a15f487",
   "metadata": {},
   "outputs": [],
   "source": [
    "note = \"     this node for my friends who loves me    \""
   ]
  },
  {
   "cell_type": "code",
   "execution_count": null,
   "id": "ac2d24c2",
   "metadata": {},
   "outputs": [],
   "source": [
    "note"
   ]
  },
  {
   "cell_type": "code",
   "execution_count": null,
   "id": "3394511f",
   "metadata": {},
   "outputs": [],
   "source": [
    "note.strip()"
   ]
  },
  {
   "cell_type": "raw",
   "id": "a12fb432",
   "metadata": {},
   "source": [
    "we can replace string with another string, also replace word and character"
   ]
  },
  {
   "cell_type": "code",
   "execution_count": null,
   "id": "f08e0c6b",
   "metadata": {},
   "outputs": [],
   "source": [
    "note.replace('loves', 'hates')"
   ]
  },
  {
   "cell_type": "code",
   "execution_count": null,
   "id": "53488b1e",
   "metadata": {},
   "outputs": [],
   "source": [
    "note.replace('loves', 'hates').strip()"
   ]
  },
  {
   "cell_type": "markdown",
   "id": "39ec90cd",
   "metadata": {},
   "source": [
    "we can split the string"
   ]
  },
  {
   "cell_type": "code",
   "execution_count": null,
   "id": "cf084e41",
   "metadata": {},
   "outputs": [],
   "source": [
    "note.split()"
   ]
  },
  {
   "cell_type": "markdown",
   "id": "ad57fe05",
   "metadata": {},
   "source": [
    "There are lost of method, folow the python doc."
   ]
  },
  {
   "cell_type": "raw",
   "id": "899680cc",
   "metadata": {},
   "source": [
    "Let's know how to Concatenation multiple variables and values."
   ]
  },
  {
   "cell_type": "code",
   "execution_count": null,
   "id": "d5e8e6e2",
   "metadata": {},
   "outputs": [],
   "source": [
    "newMsg = note + \"Sohag\""
   ]
  },
  {
   "cell_type": "code",
   "execution_count": null,
   "id": "709628aa",
   "metadata": {},
   "outputs": [],
   "source": [
    "print (newMsg)"
   ]
  },
  {
   "cell_type": "code",
   "execution_count": null,
   "id": "1ae5aa89",
   "metadata": {},
   "outputs": [],
   "source": [
    "newMsg = note + str(5)   #we can also Concatenation string and integer, but we should convert to string "
   ]
  },
  {
   "cell_type": "code",
   "execution_count": null,
   "id": "2c36e624",
   "metadata": {},
   "outputs": [],
   "source": [
    "print(newMsg)"
   ]
  },
  {
   "cell_type": "markdown",
   "id": "6f2515f1",
   "metadata": {},
   "source": [
    "Now we will learn How to formate string."
   ]
  },
  {
   "cell_type": "code",
   "execution_count": null,
   "id": "4e1188cb",
   "metadata": {},
   "outputs": [],
   "source": [
    "first_name = 'Sohag'\n",
    "last_name = 'Ahmed'\n",
    "msg = f\"Hello {first_name} {last_name}\"\n",
    "print(msg)"
   ]
  },
  {
   "cell_type": "raw",
   "id": "c6a4b016",
   "metadata": {},
   "source": [
    "If you want to \"print\" this line. how we will print?"
   ]
  },
  {
   "cell_type": "markdown",
   "id": "103ba611",
   "metadata": {},
   "source": [
    "there is a solution for printing this type sentense. We will use Escape'\\' operator"
   ]
  },
  {
   "cell_type": "code",
   "execution_count": null,
   "id": "3c42d86b",
   "metadata": {},
   "outputs": [],
   "source": [
    "msg = 'If you want to \\\"print\\\" this line.'"
   ]
  },
  {
   "cell_type": "code",
   "execution_count": null,
   "id": "510b8e22",
   "metadata": {},
   "outputs": [],
   "source": [
    "print(msg)"
   ]
  },
  {
   "cell_type": "markdown",
   "id": "c9fbbe78",
   "metadata": {},
   "source": [
    "# Python Operators"
   ]
  },
  {
   "cell_type": "markdown",
   "id": "683cc02e",
   "metadata": {},
   "source": [
    "Python operations are basically used to perform different operations on variables and values."
   ]
  },
  {
   "cell_type": "code",
   "execution_count": null,
   "id": "c00eb631",
   "metadata": {},
   "outputs": [],
   "source": [
    "print(4+4) # this is one kind of operation"
   ]
  },
  {
   "cell_type": "markdown",
   "id": "0d724358",
   "metadata": {},
   "source": [
    "let's drive into the deep"
   ]
  },
  {
   "cell_type": "markdown",
   "id": "a96c2efe",
   "metadata": {},
   "source": [
    "First we will learn about arithmetic operation."
   ]
  },
  {
   "cell_type": "raw",
   "id": "23b55d2a",
   "metadata": {},
   "source": [
    "arithmetic operation is like normal calculation.\n",
    "+ Addition\t \n",
    "-\tSubtraction\n",
    "*\tMultiplication\t\n",
    "/\tDivision\t\n",
    "%\tModulus\t it returns \n",
    "**\tExponentiation\t it returns the power\n",
    "//\tFloor division\t it returns the floor value of division"
   ]
  },
  {
   "cell_type": "code",
   "execution_count": null,
   "id": "12eadbe5",
   "metadata": {},
   "outputs": [],
   "source": [
    "5+5"
   ]
  },
  {
   "cell_type": "code",
   "execution_count": null,
   "id": "f0de6983",
   "metadata": {},
   "outputs": [],
   "source": [
    "10-8"
   ]
  },
  {
   "cell_type": "code",
   "execution_count": null,
   "id": "785926c3",
   "metadata": {},
   "outputs": [],
   "source": [
    "3*3"
   ]
  },
  {
   "cell_type": "code",
   "execution_count": null,
   "id": "ba40222c",
   "metadata": {},
   "outputs": [],
   "source": [
    "8/2"
   ]
  },
  {
   "cell_type": "code",
   "execution_count": null,
   "id": "62be0b20",
   "metadata": {},
   "outputs": [],
   "source": [
    "2**3"
   ]
  },
  {
   "cell_type": "code",
   "execution_count": null,
   "id": "f88ae35a",
   "metadata": {},
   "outputs": [],
   "source": [
    "15/2"
   ]
  },
  {
   "cell_type": "code",
   "execution_count": null,
   "id": "67ad12b7",
   "metadata": {},
   "outputs": [],
   "source": [
    "10%2"
   ]
  },
  {
   "cell_type": "raw",
   "id": "1bace781",
   "metadata": {},
   "source": [
    "now we will learn about Python Assignment Operators"
   ]
  },
  {
   "cell_type": "code",
   "execution_count": null,
   "id": "793f56ac",
   "metadata": {},
   "outputs": [],
   "source": [
    "a = 5  #Assignmet operation\n"
   ]
  },
  {
   "cell_type": "code",
   "execution_count": null,
   "id": "52b0d275",
   "metadata": {},
   "outputs": [],
   "source": [
    "a += 3 # its like a = a + 3 note: its like for -, *, /, %, //...\n",
    "# It will throw error is you separate like this + =, it must right +=. There will not any error between this operator."
   ]
  },
  {
   "cell_type": "code",
   "execution_count": null,
   "id": "a57e06ef",
   "metadata": {},
   "outputs": [],
   "source": [
    "print(a)"
   ]
  },
  {
   "cell_type": "code",
   "execution_count": null,
   "id": "cc8ce305",
   "metadata": {},
   "outputs": [],
   "source": [
    "a%= 3"
   ]
  },
  {
   "cell_type": "code",
   "execution_count": null,
   "id": "2861914f",
   "metadata": {},
   "outputs": [],
   "source": [
    "a"
   ]
  },
  {
   "cell_type": "code",
   "execution_count": null,
   "id": "765505b7",
   "metadata": {},
   "outputs": [],
   "source": [
    "a ** 3 # its like a ^ 3 (2*2*2)"
   ]
  },
  {
   "cell_type": "raw",
   "id": "58be4614",
   "metadata": {},
   "source": [
    "Let's move into the Python Comparison Operators."
   ]
  },
  {
   "cell_type": "code",
   "execution_count": null,
   "id": "46d15bee",
   "metadata": {},
   "outputs": [],
   "source": [
    "# == checks if two values are equal; returns True if equal, else False\n",
    "5 == 10\n"
   ]
  },
  {
   "cell_type": "code",
   "execution_count": null,
   "id": "f4caad2f",
   "metadata": {},
   "outputs": [],
   "source": [
    "5==5"
   ]
  },
  {
   "cell_type": "raw",
   "id": "48688937",
   "metadata": {},
   "source": [
    "#  != it's check is it not equal or not, it is oposite of == "
   ]
  },
  {
   "cell_type": "code",
   "execution_count": null,
   "id": "bb2f6bc2",
   "metadata": {},
   "outputs": [],
   "source": [
    "10 != 5"
   ]
  },
  {
   "cell_type": "code",
   "execution_count": null,
   "id": "7840f583",
   "metadata": {},
   "outputs": [],
   "source": [
    "# > Greater than; returns True if the left operand is greater than the right operand, else False\n"
   ]
  },
  {
   "cell_type": "code",
   "execution_count": null,
   "id": "1579e407",
   "metadata": {},
   "outputs": [],
   "source": [
    "10 > 3"
   ]
  },
  {
   "cell_type": "code",
   "execution_count": null,
   "id": "835cd59b",
   "metadata": {},
   "outputs": [],
   "source": [
    "# < Less than; returns True if the left operand is less than the right operand, else False\n"
   ]
  },
  {
   "cell_type": "code",
   "execution_count": null,
   "id": "db63e631",
   "metadata": {},
   "outputs": [],
   "source": [
    "10 < 3"
   ]
  },
  {
   "cell_type": "code",
   "execution_count": null,
   "id": "a627d6c5",
   "metadata": {},
   "outputs": [],
   "source": [
    "# >= greater or  equal, it will check two times, this expression means (a = b) or (a > b) if any of one is true then it will \n",
    "#give true\n",
    "\n",
    "10 >= 3"
   ]
  },
  {
   "cell_type": "raw",
   "id": "dd176ab6",
   "metadata": {},
   "source": [
    "#Now we will learn about Python Logical Operators\n",
    "and\n",
    "or \n",
    "not"
   ]
  },
  {
   "cell_type": "code",
   "execution_count": null,
   "id": "dcf8e8de",
   "metadata": {},
   "outputs": [],
   "source": [
    "#and Returns True if both statements are true\n",
    "x = 3\n",
    "x < 5 and  x < 10"
   ]
  },
  {
   "cell_type": "code",
   "execution_count": null,
   "id": "78a930b5",
   "metadata": {},
   "outputs": [],
   "source": [
    "# or Returns True if one of the statements is true\n",
    "x < 5 or x < 4"
   ]
  },
  {
   "cell_type": "code",
   "execution_count": null,
   "id": "e7ee5962",
   "metadata": {},
   "outputs": [],
   "source": [
    "#not Reverse the result, returns False if the result is true\n",
    "not(x < 5 and x < 10)\t"
   ]
  },
  {
   "cell_type": "raw",
   "id": "28e756c1",
   "metadata": {},
   "source": [
    "Now we will learn about Python Identity Operators\n",
    "is \n",
    "is not"
   ]
  },
  {
   "cell_type": "raw",
   "id": "ba090d9d",
   "metadata": {},
   "source": [
    "The is keyword checks if two variables refer to the same object in memory. If they do, it returns True; otherwise, it returns False. Conversely, the is not keyword checks if two variables refer to different objects. If they do, it returns True; otherwise, it returns False.\n",
    "\n",
    "In comparison, the == operator checks if two variables have the same value, regardless of whether they are the same object."
   ]
  },
  {
   "cell_type": "code",
   "execution_count": null,
   "id": "dd70b9b3",
   "metadata": {},
   "outputs": [],
   "source": [
    "#Let drive into example for better understanding.\n",
    "\n",
    "x = 257\n",
    "y = x\n",
    "z = 257"
   ]
  },
  {
   "cell_type": "code",
   "execution_count": null,
   "id": "cd5ed09a",
   "metadata": {
    "scrolled": true
   },
   "outputs": [],
   "source": [
    "x is z #this ans will be flase because x and z value is same but they are not refering same object in memory"
   ]
  },
  {
   "cell_type": "code",
   "execution_count": null,
   "id": "3a6673c6",
   "metadata": {},
   "outputs": [],
   "source": [
    "x is y # it will retrun true because there are refer to the same object in memory"
   ]
  },
  {
   "cell_type": "code",
   "execution_count": null,
   "id": "91cc39e0",
   "metadata": {},
   "outputs": [],
   "source": [
    "x == z # it will return true because there value is same. == operator consern about value"
   ]
  },
  {
   "cell_type": "code",
   "execution_count": null,
   "id": "4390ac75",
   "metadata": {},
   "outputs": [],
   "source": [
    "# let's see another example \n",
    "a = 10\n",
    "b = a\n",
    "c = 10\n",
    "\n",
    "a is c "
   ]
  },
  {
   "cell_type": "raw",
   "id": "a972f750",
   "metadata": {},
   "source": [
    "You are confused right haha, let me clear the concept. \n",
    "Python caches small integers, typically in the range from -5 to 256. When you assign these values to variables, they point to the same memory location.\n",
    "In our example, 10 is within this range, so all three variables (a, b, and c) point to the same cached integer object."
   ]
  },
  {
   "cell_type": "raw",
   "id": "7d45d426",
   "metadata": {},
   "source": [
    "is not is opposite of is, this is your task try it"
   ]
  },
  {
   "cell_type": "raw",
   "id": "dfd275a8",
   "metadata": {},
   "source": [
    "Operator Precedence in python is like regular mathematics "
   ]
  },
  {
   "cell_type": "markdown",
   "id": "0463165d",
   "metadata": {},
   "source": [
    "# List"
   ]
  },
  {
   "cell_type": "raw",
   "id": "482050a6",
   "metadata": {},
   "source": [
    "Lists are used to store multiple items in a single variable. List can hold any type of data together."
   ]
  },
  {
   "cell_type": "code",
   "execution_count": null,
   "id": "8c9ba8b5",
   "metadata": {},
   "outputs": [],
   "source": [
    "animal = ['Lion', 'Tiger', 'Elephent', 'Cat', 'Dog']\n",
    "print(animal)\n",
    "mixData = ['Sohag', 123, True, None, 4.4]\n",
    "print(mixData)"
   ]
  },
  {
   "cell_type": "raw",
   "id": "41846df5",
   "metadata": {},
   "source": [
    "List Item are indexed like string.\n",
    "animal[0] = 'Lion'\n",
    "animal[1] = 'Tiger'\n",
    "we can access from -1 also "
   ]
  },
  {
   "cell_type": "code",
   "execution_count": null,
   "id": "3571d410",
   "metadata": {},
   "outputs": [],
   "source": [
    "animal[-1]"
   ]
  },
  {
   "cell_type": "raw",
   "id": "b0ad4c91",
   "metadata": {},
   "source": [
    "as I said List can hold any type of data, so List can hold List, Tuple, set and dictorany also. \n",
    "When List hold another List then we will say Nested List."
   ]
  },
  {
   "cell_type": "code",
   "execution_count": null,
   "id": "faf6800f",
   "metadata": {},
   "outputs": [],
   "source": [
    "lists = [[1, 2, 3, 4, 5], [6, 7, 8, 9, 10], [11,12, 13, 14, 15]]"
   ]
  },
  {
   "cell_type": "code",
   "execution_count": null,
   "id": "2daab197",
   "metadata": {},
   "outputs": [],
   "source": [
    "#inside the list every child list maintain indexing. Like list[0] = [1, 2, 3, 4, 5]\n",
    "\n",
    "print(lists[0])"
   ]
  },
  {
   "cell_type": "code",
   "execution_count": null,
   "id": "7d70e90f",
   "metadata": {},
   "outputs": [],
   "source": [
    "#If we want to access child list item then we need to target the child list first then item of the child list\n",
    "\n",
    "print(lists[0][3])"
   ]
  },
  {
   "cell_type": "raw",
   "id": "570c990b",
   "metadata": {},
   "source": [
    "we can make more nested like 3D, 4D, ... nD"
   ]
  },
  {
   "cell_type": "code",
   "execution_count": null,
   "id": "cc97009a",
   "metadata": {},
   "outputs": [],
   "source": [
    "#we can see the length of a list\n"
   ]
  },
  {
   "cell_type": "code",
   "execution_count": null,
   "id": "52e18382",
   "metadata": {},
   "outputs": [],
   "source": [
    "len(animal)"
   ]
  },
  {
   "cell_type": "code",
   "execution_count": null,
   "id": "bce09dd7",
   "metadata": {},
   "outputs": [],
   "source": [
    "# we can slice items like string \n",
    "animal[2:-1]"
   ]
  },
  {
   "cell_type": "raw",
   "id": "2cd4ffc7",
   "metadata": {},
   "source": [
    "Now we will se how to add item in list"
   ]
  },
  {
   "cell_type": "code",
   "execution_count": null,
   "id": "b29d7404",
   "metadata": {},
   "outputs": [],
   "source": [
    "num_List= [1, 2, 3, 4, 5, 6]"
   ]
  },
  {
   "cell_type": "code",
   "execution_count": null,
   "id": "9b20d2f4",
   "metadata": {},
   "outputs": [],
   "source": [
    "#using append method, append add from the last of the list\n",
    "\n",
    "num_List.append(7)\n",
    "print(num_List)"
   ]
  },
  {
   "cell_type": "code",
   "execution_count": null,
   "id": "a7d55a1b",
   "metadata": {},
   "outputs": [],
   "source": [
    "#we can aslo add item at perticular index, using insert() method\n",
    "# insert() method takes two peremeter, first index number where we want to insert  and second  item.\n",
    "num_List.insert(4, 10)\n",
    "print(num_List)"
   ]
  },
  {
   "cell_type": "raw",
   "id": "918b9904",
   "metadata": {},
   "source": [
    "here you can se 10 is inserted at the 4th index"
   ]
  },
  {
   "cell_type": "raw",
   "id": "23c70092",
   "metadata": {},
   "source": [
    "As we can insert items, so we can remove items. using remove(), pop(), clear()\n",
    "remove() method takes perticular item which you want to remove form list\n",
    "pop() method remove item form last of the list, and\n",
    "clear() method clear the whole list\n",
    "let's move into the example for better understanding"
   ]
  },
  {
   "cell_type": "code",
   "execution_count": null,
   "id": "44ad0ba9",
   "metadata": {},
   "outputs": [],
   "source": [
    "num_List.remove(10)\n",
    "print(num_List)"
   ]
  },
  {
   "cell_type": "raw",
   "id": "99f7180f",
   "metadata": {},
   "source": [
    "here you can se 10 is removed form the list"
   ]
  },
  {
   "cell_type": "code",
   "execution_count": null,
   "id": "ff981401",
   "metadata": {},
   "outputs": [],
   "source": [
    "num_List.pop()\n",
    "print(num_List)"
   ]
  },
  {
   "cell_type": "raw",
   "id": "4615cda7",
   "metadata": {},
   "source": [
    "The last items was 4 and 4 is removed"
   ]
  },
  {
   "cell_type": "code",
   "execution_count": null,
   "id": "17770e44",
   "metadata": {},
   "outputs": [],
   "source": [
    "num_List.clear()\n",
    "print(num_List)"
   ]
  },
  {
   "cell_type": "raw",
   "id": "bdf910a1",
   "metadata": {},
   "source": [
    "Here you can se there no Item inside the list "
   ]
  },
  {
   "cell_type": "code",
   "execution_count": null,
   "id": "f4a607c5",
   "metadata": {},
   "outputs": [],
   "source": [
    "#we can also delete the list\n",
    "\n",
    "del num_List\n",
    "print(num_List) # it will throw error because this list is deleted "
   ]
  },
  {
   "cell_type": "raw",
   "id": "2d99aa1c",
   "metadata": {},
   "source": [
    "notice clearfully the error. num_list is not define. that means this list are not avilable."
   ]
  },
  {
   "cell_type": "code",
   "execution_count": null,
   "id": "0d40ba2e",
   "metadata": {},
   "outputs": [],
   "source": [
    "#loop in pyton. A loop repeatedly executes a block of code if condition is true (we will deeply understand about loop later)\n",
    "num_List = [1, 2, 3, 4, 5]\n",
    "\n",
    "for num in num_List:\n",
    "    print(num)"
   ]
  },
  {
   "cell_type": "raw",
   "id": "f49b2c07",
   "metadata": {},
   "source": [
    "# There are several way to using loop in list, when you will ulderstand then you can understood by yourself how to apply"
   ]
  },
  {
   "cell_type": "code",
   "execution_count": null,
   "id": "da0c6abc",
   "metadata": {},
   "outputs": [],
   "source": [
    "# your can sort a list asending or desending order as you want "
   ]
  },
  {
   "cell_type": "code",
   "execution_count": null,
   "id": "9252ce4c",
   "metadata": {},
   "outputs": [],
   "source": [
    "num_List = [2, 5, 10, 8, 7, 3, 6, 9, 1]\n",
    "num_List.sort()"
   ]
  },
  {
   "cell_type": "code",
   "execution_count": null,
   "id": "12e7c075",
   "metadata": {},
   "outputs": [],
   "source": [
    "num_List"
   ]
  },
  {
   "cell_type": "code",
   "execution_count": null,
   "id": "f61e1967",
   "metadata": {},
   "outputs": [],
   "source": [
    "num_List.sort(reverse = True)\n",
    "num_List"
   ]
  },
  {
   "cell_type": "code",
   "execution_count": null,
   "id": "37090e0f",
   "metadata": {},
   "outputs": [],
   "source": [
    "#You can copy list using copy()  method\n",
    "newList = num_List.copy()\n",
    "newList"
   ]
  },
  {
   "cell_type": "code",
   "execution_count": null,
   "id": "b9c53e41",
   "metadata": {},
   "outputs": [],
   "source": [
    "#we can join multiple list \n",
    "#example\n",
    "list1 = [1,2,3,4,5]\n",
    "list2 = [6,7,8,9,10]\n",
    "joinedList = list1+list2\n",
    "print(joinedList)"
   ]
  },
  {
   "cell_type": "markdown",
   "id": "320f747a",
   "metadata": {},
   "source": [
    "# Python Tuples"
   ]
  },
  {
   "cell_type": "raw",
   "id": "6b594477",
   "metadata": {},
   "source": [
    "A tuple is another data type used to store multiple items. Tuples are ordered and immutable, meaning once assigned, their elements cannot be changed or modified.\n",
    "It is also indexed, we can access by using index number."
   ]
  },
  {
   "cell_type": "code",
   "execution_count": null,
   "id": "92333138",
   "metadata": {},
   "outputs": [],
   "source": [
    "myTuple = (\"apple\", \"banana\", \"cherry\" )\n",
    "\n",
    "print(myTuples)"
   ]
  },
  {
   "cell_type": "raw",
   "id": "678d6a85",
   "metadata": {},
   "source": [
    "We know tuples are immutable or unchangeable. If we need to change a tuple, we can convert it to a list, make the necessary changes, and then convert it back to a tuple."
   ]
  },
  {
   "cell_type": "code",
   "execution_count": null,
   "id": "b0e04738",
   "metadata": {},
   "outputs": [],
   "source": [
    "temp = list(myTuple)  # now myTuples converted to list, now we can modify it and again we can convert to tuple\n",
    "temp  "
   ]
  },
  {
   "cell_type": "code",
   "execution_count": null,
   "id": "386a3cec",
   "metadata": {},
   "outputs": [],
   "source": [
    "temp.append('orrange')"
   ]
  },
  {
   "cell_type": "code",
   "execution_count": null,
   "id": "e25b79cd",
   "metadata": {},
   "outputs": [],
   "source": [
    "myTuple = tuple(temp)"
   ]
  },
  {
   "cell_type": "code",
   "execution_count": null,
   "id": "aa15c641",
   "metadata": {},
   "outputs": [],
   "source": [
    "print(myTuple)"
   ]
  },
  {
   "cell_type": "raw",
   "id": "c6e3c5da",
   "metadata": {},
   "source": [
    "the tuple is updated now"
   ]
  },
  {
   "cell_type": "raw",
   "id": "5f00638e",
   "metadata": {},
   "source": [
    "\n",
    "\"Now, let's learn about Unpacking Tuples. When we create a tuple, it's packed with values. We can then unpack tuples (similar to array destructuring in JavaScript), which allows us to assign different values to different variables.\""
   ]
  },
  {
   "cell_type": "code",
   "execution_count": null,
   "id": "be2217cd",
   "metadata": {},
   "outputs": [],
   "source": [
    "(var1, var2, var3, var4) = myTuple"
   ]
  },
  {
   "cell_type": "code",
   "execution_count": null,
   "id": "1d2ef920",
   "metadata": {},
   "outputs": [],
   "source": [
    "print(var1)"
   ]
  },
  {
   "cell_type": "raw",
   "id": "fdf2a4d0",
   "metadata": {},
   "source": [
    "Look the var1 variable stored apple."
   ]
  },
  {
   "cell_type": "code",
   "execution_count": null,
   "id": "f416c3a6",
   "metadata": {},
   "outputs": [],
   "source": [
    "# In unpacked there a special sing '*' let's see few examples then you will understand\n",
    "(var1, var2, *var3) = myTuple"
   ]
  },
  {
   "cell_type": "code",
   "execution_count": null,
   "id": "a67cfa1a",
   "metadata": {},
   "outputs": [],
   "source": [
    "print (var1)\n",
    "print(var2)\n",
    "print(var3)"
   ]
  },
  {
   "cell_type": "raw",
   "id": "28183a68",
   "metadata": {},
   "source": [
    "Notice the output of this code, var1 and var2 stored single value,\n",
    "but var3 store the rest of the elements and stored as list. "
   ]
  },
  {
   "cell_type": "code",
   "execution_count": null,
   "id": "2aef4766",
   "metadata": {},
   "outputs": [],
   "source": [
    "(var1, *var2, var3) = myTuple # var1 and var3 will store single items of tuple, means var1 will first item and var3 will store last item. and the rest of item will store var2 variable \n",
    "\n",
    "print (var1)\n",
    "print(var2)\n",
    "print(var3)"
   ]
  },
  {
   "cell_type": "raw",
   "id": "4d0a8581",
   "metadata": {},
   "source": [
    "Hope you understood!"
   ]
  },
  {
   "cell_type": "raw",
   "id": "05cd2c36",
   "metadata": {},
   "source": [
    "Tuple loop and join as like as list, to do practise"
   ]
  },
  {
   "cell_type": "markdown",
   "id": "aa531463",
   "metadata": {},
   "source": [
    "# Python Sets"
   ]
  },
  {
   "cell_type": "raw",
   "id": "a495bab2",
   "metadata": {},
   "source": [
    "Sets are another data type used to store multiple unique values in a single variable. Sets are unordered (they do not have indices) and mutable (but their elements must be immutable)."
   ]
  },
  {
   "cell_type": "code",
   "execution_count": null,
   "id": "328136aa",
   "metadata": {},
   "outputs": [],
   "source": [
    "my_sets = {1, 2, 2, 3, 4, 4, 5}"
   ]
  },
  {
   "cell_type": "code",
   "execution_count": null,
   "id": "f2a1ce4f",
   "metadata": {},
   "outputs": [],
   "source": [
    "print(my_sets)"
   ]
  },
  {
   "cell_type": "code",
   "execution_count": null,
   "id": "aeaea0ad",
   "metadata": {
    "scrolled": true
   },
   "outputs": [],
   "source": [
    "for x in my_sets:\n",
    "    print(x)"
   ]
  },
  {
   "cell_type": "raw",
   "id": "ede3f6d3",
   "metadata": {},
   "source": [
    "Now, let's delve into how we add, remove, and update values in sets. You might be feeling a bit confused because I previously mentioned that sets are immutable. Here's the clarification: sets themselves are mutable, meaning we can modify their contents by adding or removing items. However, the critical point is that while sets can be changed, their individual items must be immutable. This means once an item is added to a set, you cannot directly modify it. Sets do not support indexing, so you cannot access elements by their position as you would in a list. Instead, to update a set, you must remove the existing item and add a new one. It's important to note that sets can only contain immutable items. This constraint ensures the integrity of set operations, facilitates efficient membership testing, and maintains the uniqueness of elements within the set."
   ]
  },
  {
   "cell_type": "code",
   "execution_count": 12,
   "id": "8979819f",
   "metadata": {},
   "outputs": [
    {
     "name": "stdout",
     "output_type": "stream",
     "text": [
      "{'apple', 'banana', 'cherry', 'mango'}\n"
     ]
    }
   ],
   "source": [
    "fruits = {\"apple\", \"banana\", \"cherry\"}\n",
    "fruits.add('mango')\n",
    "print(fruits)"
   ]
  },
  {
   "cell_type": "code",
   "execution_count": 13,
   "id": "f147aa42",
   "metadata": {},
   "outputs": [],
   "source": [
    "new_fruits_set = {'guava', 'pineapple', 'watermelon'}\n"
   ]
  },
  {
   "cell_type": "code",
   "execution_count": 14,
   "id": "d34bf530",
   "metadata": {},
   "outputs": [],
   "source": [
    "fruits.update(new_fruits_set)"
   ]
  },
  {
   "cell_type": "code",
   "execution_count": 15,
   "id": "37a4da8a",
   "metadata": {},
   "outputs": [
    {
     "name": "stdout",
     "output_type": "stream",
     "text": [
      "{'apple', 'cherry', 'mango', 'watermelon', 'guava', 'pineapple', 'banana'}\n"
     ]
    }
   ],
   "source": [
    "print(fruits)"
   ]
  },
  {
   "cell_type": "code",
   "execution_count": 16,
   "id": "0094c08a",
   "metadata": {},
   "outputs": [
    {
     "name": "stdout",
     "output_type": "stream",
     "text": [
      "{'apple', 'cherry', 'mango', 'watermelon', 'pineapple', 'banana'}\n"
     ]
    }
   ],
   "source": [
    "fruits.remove('guava') #If the item to remove does not exist, remove() will raise an error.\n",
    "print(fruits) "
   ]
  },
  {
   "cell_type": "code",
   "execution_count": 17,
   "id": "dbe7b5fa",
   "metadata": {},
   "outputs": [
    {
     "name": "stdout",
     "output_type": "stream",
     "text": [
      "{'apple', 'cherry', 'mango', 'watermelon', 'pineapple', 'banana'}\n"
     ]
    }
   ],
   "source": [
    "fruits.discard('guava') #If the item to remove does not exist, discard() will NOT raise an error.\n",
    "print(fruits)"
   ]
  },
  {
   "cell_type": "code",
   "execution_count": 18,
   "id": "48fd0074",
   "metadata": {},
   "outputs": [
    {
     "data": {
      "text/plain": [
       "'apple'"
      ]
     },
     "execution_count": 18,
     "metadata": {},
     "output_type": "execute_result"
    }
   ],
   "source": [
    "fruits.pop() # its return the revoed item"
   ]
  },
  {
   "cell_type": "raw",
   "id": "e2bee84b",
   "metadata": {},
   "source": [
    "we can clear and delete the sets like list aslo join the multiple sets"
   ]
  },
  {
   "cell_type": "markdown",
   "id": "29801271",
   "metadata": {},
   "source": [
    "# Python Dictionaries"
   ]
  },
  {
   "cell_type": "raw",
   "id": "c09a49d1",
   "metadata": {},
   "source": [
    "Dictionaries are used to store data values in key:value pairs, and can be referred to by using the key name.\n",
    "\n",
    "A dictionary is a collection which is ordered*, changeable and do not allow duplicates."
   ]
  },
  {
   "cell_type": "code",
   "execution_count": 19,
   "id": "517a8532",
   "metadata": {},
   "outputs": [
    {
     "name": "stdout",
     "output_type": "stream",
     "text": [
      "{'brand': 'Ford', 'model': 'Mustang', 'year': 1964}\n"
     ]
    }
   ],
   "source": [
    "car = {\n",
    "  \"brand\": \"Ford\",\n",
    "  \"model\": \"Mustang\",\n",
    "  \"year\": 1964\n",
    "}\n",
    "print(car)"
   ]
  },
  {
   "cell_type": "code",
   "execution_count": 20,
   "id": "f8be4c54",
   "metadata": {},
   "outputs": [
    {
     "name": "stdout",
     "output_type": "stream",
     "text": [
      "Ford\n"
     ]
    }
   ],
   "source": [
    "print(car[\"brand\"]) #There is also a method called get() that will give you the same result:"
   ]
  },
  {
   "cell_type": "code",
   "execution_count": 21,
   "id": "fc2103f7",
   "metadata": {},
   "outputs": [
    {
     "name": "stdout",
     "output_type": "stream",
     "text": [
      "Ford\n"
     ]
    }
   ],
   "source": [
    "print(car.get('brand'))"
   ]
  },
  {
   "cell_type": "raw",
   "id": "a8d8d8c4",
   "metadata": {},
   "source": [
    "If you wanna to see the all keys and values saparately of the dictionary you can.Using keys()  and values() method.\n",
    "Let's see how"
   ]
  },
  {
   "cell_type": "code",
   "execution_count": 22,
   "id": "f558d77e",
   "metadata": {},
   "outputs": [
    {
     "name": "stdout",
     "output_type": "stream",
     "text": [
      "dict_keys(['brand', 'model', 'year'])\n"
     ]
    }
   ],
   "source": [
    "print(car.keys())"
   ]
  },
  {
   "cell_type": "code",
   "execution_count": 23,
   "id": "0fe0ded9",
   "metadata": {},
   "outputs": [
    {
     "name": "stdout",
     "output_type": "stream",
     "text": [
      "dict_values(['Ford', 'Mustang', 1964])\n"
     ]
    }
   ],
   "source": [
    "print(car.values())"
   ]
  },
  {
   "cell_type": "code",
   "execution_count": 24,
   "id": "04da21f7",
   "metadata": {},
   "outputs": [],
   "source": [
    "# dirctionary is muteable so you can update tergeting its key\n",
    "car['brand'] = 'tesla'"
   ]
  },
  {
   "cell_type": "code",
   "execution_count": 25,
   "id": "7e5da3d6",
   "metadata": {},
   "outputs": [
    {
     "name": "stdout",
     "output_type": "stream",
     "text": [
      "{'brand': 'tesla', 'model': 'Mustang', 'year': 1964}\n"
     ]
    }
   ],
   "source": [
    "print(car)"
   ]
  },
  {
   "cell_type": "code",
   "execution_count": 26,
   "id": "7d30d858",
   "metadata": {},
   "outputs": [
    {
     "name": "stdout",
     "output_type": "stream",
     "text": [
      "{'brand': 'tesla', 'model': 'Mustang', 'year': 1964, 'color': 'red', 'price': '$1200', 'edition': 'latest'}\n"
     ]
    }
   ],
   "source": [
    "#you can update new key and value\n",
    "\n",
    "car.update({'color':'red'})\n",
    "car.update({'price': '$1200', 'edition': 'latest'}) #you can also update multiple items together\n",
    "print(car)"
   ]
  },
  {
   "cell_type": "code",
   "execution_count": 27,
   "id": "32bcb3d5",
   "metadata": {},
   "outputs": [
    {
     "name": "stdout",
     "output_type": "stream",
     "text": [
      "{'brand': 'tesla', 'model': 'Mustang', 'year': 1964, 'color': 'red', 'edition': 'latest'}\n"
     ]
    }
   ],
   "source": [
    "#we can remove item  using pop, remove, clear methods \n",
    "car.pop('price') # it's remove item which you want\n",
    "print(car)"
   ]
  },
  {
   "cell_type": "code",
   "execution_count": 28,
   "id": "45aee64f",
   "metadata": {},
   "outputs": [
    {
     "data": {
      "text/plain": [
       "('edition', 'latest')"
      ]
     },
     "execution_count": 28,
     "metadata": {},
     "output_type": "execute_result"
    }
   ],
   "source": [
    "car.popitem() #its remove the last item "
   ]
  },
  {
   "cell_type": "code",
   "execution_count": 29,
   "id": "4b08bb02",
   "metadata": {},
   "outputs": [],
   "source": [
    "tem = car #its referace the address. If you update by tem then car also updat"
   ]
  },
  {
   "cell_type": "code",
   "execution_count": 30,
   "id": "c42bcbc0",
   "metadata": {},
   "outputs": [],
   "source": [
    "tem['year']  = 2024\n",
    "tem.update({'country':'USA'})"
   ]
  },
  {
   "cell_type": "code",
   "execution_count": 31,
   "id": "1c1ca0fe",
   "metadata": {},
   "outputs": [
    {
     "data": {
      "text/plain": [
       "{'brand': 'tesla',\n",
       " 'model': 'Mustang',\n",
       " 'year': 2024,\n",
       " 'color': 'red',\n",
       " 'country': 'USA'}"
      ]
     },
     "execution_count": 31,
     "metadata": {},
     "output_type": "execute_result"
    }
   ],
   "source": [
    "car"
   ]
  },
  {
   "cell_type": "code",
   "execution_count": 32,
   "id": "7e8be38a",
   "metadata": {},
   "outputs": [
    {
     "data": {
      "text/plain": [
       "{'brand': 'tesla',\n",
       " 'model': 'Mustang',\n",
       " 'year': 2024,\n",
       " 'color': 'red',\n",
       " 'country': 'USA'}"
      ]
     },
     "execution_count": 32,
     "metadata": {},
     "output_type": "execute_result"
    }
   ],
   "source": [
    "tem"
   ]
  },
  {
   "cell_type": "code",
   "execution_count": 33,
   "id": "15fd10ca",
   "metadata": {},
   "outputs": [],
   "source": [
    "# You can make a copy of dictionary using copy() method\n",
    "\n",
    "newCar = car.copy()"
   ]
  },
  {
   "cell_type": "code",
   "execution_count": 34,
   "id": "a3f1d680",
   "metadata": {},
   "outputs": [
    {
     "name": "stdout",
     "output_type": "stream",
     "text": [
      "{'brand': 'tesla', 'model': 'Mustang', 'year': 2024, 'color': 'red', 'country': 'USA'}\n"
     ]
    }
   ],
   "source": [
    "print(newCar)"
   ]
  },
  {
   "cell_type": "code",
   "execution_count": 35,
   "id": "6a2af190",
   "metadata": {},
   "outputs": [
    {
     "name": "stdout",
     "output_type": "stream",
     "text": [
      "{'brand': 'tesla', 'model': 'Mustang', 'year': 2024, 'color': 'red'}\n"
     ]
    }
   ],
   "source": [
    "newCar.popitem()\n",
    "print(newCar)"
   ]
  },
  {
   "cell_type": "code",
   "execution_count": 36,
   "id": "2f83b634",
   "metadata": {},
   "outputs": [
    {
     "data": {
      "text/plain": [
       "{'brand': 'tesla',\n",
       " 'model': 'Mustang',\n",
       " 'year': 2024,\n",
       " 'color': 'red',\n",
       " 'country': 'USA'}"
      ]
     },
     "execution_count": 36,
     "metadata": {},
     "output_type": "execute_result"
    }
   ],
   "source": [
    "car"
   ]
  },
  {
   "cell_type": "raw",
   "id": "86978440",
   "metadata": {},
   "source": [
    " look car and newCar totally diffrent dictorany "
   ]
  },
  {
   "cell_type": "raw",
   "id": "a6ce74a9",
   "metadata": {},
   "source": [
    "you can make nested dictionary "
   ]
  },
  {
   "cell_type": "code",
   "execution_count": 37,
   "id": "895c2bfc",
   "metadata": {},
   "outputs": [],
   "source": [
    "fast_food = {\n",
    "    'Burger': '$3',\n",
    "    'Pizza': '$5',\n",
    "    'Nachos': '$2.3',\n",
    "    'Hot Dog': '$2.5',\n",
    "    'Fries': '$1.5'\n",
    "}"
   ]
  },
  {
   "cell_type": "code",
   "execution_count": 38,
   "id": "25885691",
   "metadata": {},
   "outputs": [],
   "source": [
    "desserts = {\n",
    "    'Ice Cream': '$2',\n",
    "    'Brownie': '$3',\n",
    "    'Cake': '$4',\n",
    "    'Donut': '$1.5',\n",
    "    'Cupcake': '$2.5'\n",
    "}"
   ]
  },
  {
   "cell_type": "code",
   "execution_count": 39,
   "id": "53b4af6d",
   "metadata": {},
   "outputs": [],
   "source": [
    "beverages = {\n",
    "    'Coke': '$1.2',\n",
    "    'Pepsi': '$1.2',\n",
    "    'Lemonade': '$1.5',\n",
    "    'Iced Tea': '$1.8',\n",
    "    'Coffee': '$2.0'\n",
    "}"
   ]
  },
  {
   "cell_type": "code",
   "execution_count": 49,
   "id": "d67297e1",
   "metadata": {},
   "outputs": [],
   "source": [
    "food = {\n",
    "    'category1' : fast_food,\n",
    "     'category2' : desserts, \n",
    "     'category3' : beverages\n",
    "}\n",
    "# this is a nested dictonary "
   ]
  },
  {
   "cell_type": "code",
   "execution_count": 50,
   "id": "1f29d8a5",
   "metadata": {},
   "outputs": [
    {
     "name": "stdout",
     "output_type": "stream",
     "text": [
      "food['category1']:  {'Burger': '$3', 'Pizza': '$5', 'Nachos': '$2.3', 'Hot Dog': '$2.5', 'Fries': '$1.5'}\n",
      "Type of food['category1']:  <class 'dict'>\n"
     ]
    }
   ],
   "source": [
    "# Debug prints to check the structure and types\n",
    "print(\"food['category1']: \", food['category1'])\n",
    "print(\"Type of food['category1']: \", type(food['category1']))"
   ]
  },
  {
   "cell_type": "code",
   "execution_count": 51,
   "id": "8b277324",
   "metadata": {},
   "outputs": [
    {
     "name": "stdout",
     "output_type": "stream",
     "text": [
      "food['category1']['Pizza']:  $5\n"
     ]
    }
   ],
   "source": [
    "# Access a nested dictionary value\n",
    "print(\"food['category1']['Pizza']: \", food['category1']['Pizza'])"
   ]
  },
  {
   "cell_type": "markdown",
   "id": "1d907624",
   "metadata": {},
   "source": [
    "# Python Conditional"
   ]
  },
  {
   "cell_type": "raw",
   "id": "4709a43d",
   "metadata": {},
   "source": [
    "Python conditionals utilize three key words: if, elif, and else. A conditional in Python is a block of code where the first line contains a condition. If this condition evaluates to true, the subsequent code within that block executes. This structure allows for controlled execution paths based on varying conditions within a program."
   ]
  },
  {
   "cell_type": "code",
   "execution_count": 52,
   "id": "75248887",
   "metadata": {},
   "outputs": [
    {
     "name": "stdout",
     "output_type": "stream",
     "text": [
      "Hello\n"
     ]
    }
   ],
   "source": [
    "# if condition \n",
    "# Afrer if there will be condition\n",
    "if True:\n",
    "    print('Hello ')"
   ]
  },
  {
   "cell_type": "code",
   "execution_count": 53,
   "id": "d98ea108",
   "metadata": {},
   "outputs": [
    {
     "name": "stdout",
     "output_type": "stream",
     "text": [
      "2 is smaller then 5 \n"
     ]
    }
   ],
   "source": [
    "if 2<5:\n",
    "    print('2 is smaller then 5 ')"
   ]
  },
  {
   "cell_type": "code",
   "execution_count": 55,
   "id": "ed2b3ca4",
   "metadata": {},
   "outputs": [
    {
     "name": "stdout",
     "output_type": "stream",
     "text": [
      "5 is bigger then 3, and smaller then 10\n"
     ]
    }
   ],
   "source": [
    "#you can use nested if \n",
    "if 5 > 3:\n",
    "    if 5 < 10:\n",
    "        print('5 is bigger then 3, and smaller then 10')"
   ]
  },
  {
   "cell_type": "code",
   "execution_count": null,
   "id": "a0307013",
   "metadata": {},
   "outputs": [],
   "source": [
    "# elif \n",
    "# when if condition is false, and if you want to add more condition then use 'elif'\n",
    "if 5 > 10:\n",
    "    print('5 is bigger then 10')\n",
    "elif 5 < 10 :\n",
    "    print ('5 is smaller then 10')"
   ]
  },
  {
   "cell_type": "code",
   "execution_count": 57,
   "id": "9398a95e",
   "metadata": {},
   "outputs": [
    {
     "name": "stdout",
     "output_type": "stream",
     "text": [
      "Condition not matched!\n"
     ]
    }
   ],
   "source": [
    "#else \n",
    "#else don't take any condition, when all conditions are not match then exicute the else block\n",
    "\n",
    "if 5 > 10:\n",
    "    print('Condition matched!')\n",
    "else:\n",
    "    print('Condition not matched')"
   ]
  },
  {
   "cell_type": "markdown",
   "id": "ee6179ec",
   "metadata": {},
   "source": [
    "# Python Loops"
   ]
  },
  {
   "cell_type": "raw",
   "id": "1bfe5b43",
   "metadata": {},
   "source": [
    "A loop in programming repeats a set of instructions until a certain condition is satisfied.\n",
    "Python has two primitive loop commands:\n",
    "\n",
    "while loops\n",
    "for loops\n"
   ]
  },
  {
   "cell_type": "code",
   "execution_count": 60,
   "id": "ae3c8679",
   "metadata": {},
   "outputs": [
    {
     "name": "stdout",
     "output_type": "stream",
     "text": [
      "1\n",
      "2\n",
      "3\n",
      "4\n",
      "5\n",
      "6\n",
      "7\n",
      "8\n",
      "9\n",
      "10\n"
     ]
    }
   ],
   "source": [
    " #while loop in Python keeps running a block of code as long as a condition stays true.\n",
    "i = 1\n",
    "while i <= 10:\n",
    "  print(i)\n",
    "  i += 1"
   ]
  },
  {
   "cell_type": "raw",
   "id": "39e1e776",
   "metadata": {},
   "source": [
    "The for loop Python is used to loop over a sequence (like a list, tuple, string, or range) and execute a block of code for each element in the sequence."
   ]
  },
  {
   "cell_type": "code",
   "execution_count": 61,
   "id": "3d48a38b",
   "metadata": {},
   "outputs": [
    {
     "name": "stdout",
     "output_type": "stream",
     "text": [
      "apple\n",
      "banana\n",
      "cherry\n"
     ]
    }
   ],
   "source": [
    "# Example of using 'for' to iterate over a list\n",
    "fruits = [\"apple\", \"banana\", \"cherry\"]\n",
    "for fruit in fruits:\n",
    "    print(fruit)\n"
   ]
  },
  {
   "cell_type": "raw",
   "id": "7e387cef",
   "metadata": {},
   "source": [
    "There are two important keywords in Python loops: break and continue. These keywords play crucial roles in controlling the flow of execution within loops.\n",
    "\n",
    "#The break keyword in Python is used to exit a loop prematurely, regardless of whether the loop's condition is still true.\n",
    "\n",
    "#The continue keyword in Python is used to skip the current iteration of a loop and continue with the next iteration."
   ]
  },
  {
   "cell_type": "code",
   "execution_count": 62,
   "id": "c29c5191",
   "metadata": {},
   "outputs": [
    {
     "name": "stdout",
     "output_type": "stream",
     "text": [
      "1\n",
      "2\n",
      "3\n"
     ]
    }
   ],
   "source": [
    "# Example of using 'break' in a loop\n",
    "numbers = [1, 2, 3, 4, 5]\n",
    "\n",
    "for number in numbers:\n",
    "    print(number)\n",
    "    if number == 3:\n",
    "        break\n"
   ]
  },
  {
   "cell_type": "code",
   "execution_count": 63,
   "id": "9669bd64",
   "metadata": {},
   "outputs": [
    {
     "name": "stdout",
     "output_type": "stream",
     "text": [
      "1\n",
      "2\n",
      "4\n",
      "5\n"
     ]
    }
   ],
   "source": [
    "# Example of using 'continue' in a loop\n",
    "numbers = [1, 2, 3, 4, 5]\n",
    "\n",
    "for number in numbers:\n",
    "    if number == 3:\n",
    "        continue\n",
    "    print(number)\n"
   ]
  },
  {
   "cell_type": "markdown",
   "id": "880286dc",
   "metadata": {},
   "source": [
    "# Python Functions"
   ]
  },
  {
   "cell_type": "raw",
   "id": "bb582874",
   "metadata": {},
   "source": [
    "#function is a block of code, when you call it then the function will execute.  \n",
    "in python using #def keyword declaer function"
   ]
  },
  {
   "cell_type": "code",
   "execution_count": 64,
   "id": "56c67a0d",
   "metadata": {},
   "outputs": [],
   "source": [
    "def print_msg ():\n",
    "    print('Hello we are learning Python')  #  # this is function declaration "
   ]
  },
  {
   "cell_type": "code",
   "execution_count": 65,
   "id": "643bf4ea",
   "metadata": {},
   "outputs": [
    {
     "name": "stdout",
     "output_type": "stream",
     "text": [
      "Hello we are learning Python\n"
     ]
    }
   ],
   "source": [
    "print_msg() # this is function call "
   ]
  },
  {
   "cell_type": "code",
   "execution_count": 66,
   "id": "2873ce15",
   "metadata": {},
   "outputs": [
    {
     "name": "stdout",
     "output_type": "stream",
     "text": [
      "22\n"
     ]
    }
   ],
   "source": [
    "# you can pass parameter\n",
    "def add(a, b): # a and b is parameter\n",
    "    print(a+b)\n",
    "\n",
    "add(10, 12)  # 10, 12 is arguments "
   ]
  },
  {
   "cell_type": "raw",
   "id": "b6de7bd4",
   "metadata": {},
   "source": [
    "# return keyword \n",
    "In Python, return is used to end a function's execution and send a value back to the caller."
   ]
  },
  {
   "cell_type": "code",
   "execution_count": 69,
   "id": "b15e7ea9",
   "metadata": {},
   "outputs": [
    {
     "name": "stdout",
     "output_type": "stream",
     "text": [
      "5\n"
     ]
    }
   ],
   "source": [
    "def sub(a,b):\n",
    "    return a - b\n",
    "\n",
    "result = sub(10, 5) #sub(10, 5)will retun 10-5 result \n",
    "print(result)"
   ]
  },
  {
   "cell_type": "code",
   "execution_count": null,
   "id": "de3ee7cd",
   "metadata": {},
   "outputs": [],
   "source": [
    "add(10, 20, 30)"
   ]
  },
  {
   "cell_type": "raw",
   "id": "a9c32e6c",
   "metadata": {},
   "source": [
    "Why do we get an error? Because you passed 3 arguments, but during declaration, you added only 2 parameters. That's why it throws an error. If we face this situation where we don't know how many arguments will be passed—whether it's 3, 5, or more—then we can declare the function using the '*' symbol to handle variable numbers of arguments."
   ]
  },
  {
   "cell_type": "code",
   "execution_count": 77,
   "id": "f10508ee",
   "metadata": {},
   "outputs": [
    {
     "name": "stdout",
     "output_type": "stream",
     "text": [
      "97\n"
     ]
    }
   ],
   "source": [
    "def add_num(*a):\n",
    "    sum = 0\n",
    "    for num in a:\n",
    "        sum = sum + num\n",
    "    print(sum)\n",
    "    \n",
    "\n",
    "add_num(2,3,4,3,4,6,7,22,34,12)"
   ]
  },
  {
   "cell_type": "code",
   "execution_count": null,
   "id": "6d4fbd91",
   "metadata": {},
   "outputs": [],
   "source": [
    "# you can pass as agrumets list, tuples, sets and dictionary also"
   ]
  },
  {
   "cell_type": "code",
   "execution_count": 78,
   "id": "9a868cef",
   "metadata": {},
   "outputs": [
    {
     "name": "stdout",
     "output_type": "stream",
     "text": [
      "a: 1\n",
      "b: 2\n",
      "c: 3\n"
     ]
    }
   ],
   "source": [
    "def example_function(**kwargs):\n",
    "    for key, value in kwargs.items():\n",
    "        print(f\"{key}: {value}\")\n",
    "\n",
    "example_function(a=1, b=2, c=3)\n"
   ]
  },
  {
   "cell_type": "code",
   "execution_count": null,
   "id": "a9a39780",
   "metadata": {},
   "outputs": [],
   "source": [
    "#We can pass key-value pairs, for any number of keyword arguments using '**'"
   ]
  },
  {
   "cell_type": "markdown",
   "id": "4b2e54a0",
   "metadata": {},
   "source": [
    "# Thank you!"
   ]
  },
  {
   "cell_type": "markdown",
   "id": "3c45c7d6",
   "metadata": {},
   "source": []
  },
  {
   "cell_type": "code",
   "execution_count": null,
   "id": "991af460",
   "metadata": {},
   "outputs": [],
   "source": []
  }
 ],
 "metadata": {
  "kernelspec": {
   "display_name": "Python 3 (ipykernel)",
   "language": "python",
   "name": "python3"
  },
  "language_info": {
   "codemirror_mode": {
    "name": "ipython",
    "version": 3
   },
   "file_extension": ".py",
   "mimetype": "text/x-python",
   "name": "python",
   "nbconvert_exporter": "python",
   "pygments_lexer": "ipython3",
   "version": "3.11.5"
  }
 },
 "nbformat": 4,
 "nbformat_minor": 5
}
